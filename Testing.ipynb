{
 "cells": [
  {
   "cell_type": "code",
   "execution_count": 2,
   "metadata": {
    "collapsed": false,
    "deletable": true,
    "editable": true
   },
   "outputs": [],
   "source": [
    "import matplotlib.pyplot as plt\n",
    "import numpy as np"
   ]
  },
  {
   "cell_type": "code",
   "execution_count": 6,
   "metadata": {
    "collapsed": false,
    "deletable": true,
    "editable": true
   },
   "outputs": [
    {
     "data": {
      "image/png": "[encoded data removed]",
      "text/plain": [
       "<matplotlib.figure.Figure at 0x7efbcb55b350>"
      ]
     },
     "metadata": {},
     "output_type": "display_data"
    }
   ],
   "source": [
    "x = [i / 1000.0 for i in range(0,10000,1)]\n",
    "y = [i**2 for i in x]\n",
    "plt.plot(x,y)\n",
    "plt.ylabel('squares')\n",
    "plt.show()"
   ]
  },
  {
   "cell_type": "code",
   "execution_count": 3,
   "metadata": {
    "collapsed": false,
    "deletable": true,
    "editable": true
   },
   "outputs": [
    {
     "data": {
      "text/plain": [
       "array([[-3.        , -2.93939394, -2.87878788, ...,  2.87878788,\n",
       "         2.93939394,  3.        ],\n",
       "       [-3.        , -2.93939394, -2.87878788, ...,  2.87878788,\n",
       "         2.93939394,  3.        ],\n",
       "       [-3.        , -2.93939394, -2.87878788, ...,  2.87878788,\n",
       "         2.93939394,  3.        ],\n",
       "       ..., \n",
       "       [-3.        , -2.93939394, -2.87878788, ...,  2.87878788,\n",
       "         2.93939394,  3.        ],\n",
       "       [-3.        , -2.93939394, -2.87878788, ...,  2.87878788,\n",
       "         2.93939394,  3.        ],\n",
       "       [-3.        , -2.93939394, -2.87878788, ...,  2.87878788,\n",
       "         2.93939394,  3.        ]])"
      ]
     },
     "execution_count": 3,
     "metadata": {},
     "output_type": "execute_result"
    }
   ],
   "source": [
    "x = np.linspace(-3,3,100)\n",
    "y = np.linspace(-3,3,100)\n",
    "X, Y = np.meshgrid(x, y)\n",
    "X"
   ]
  },
  {
   "cell_type": "markdown",
   "metadata": {
    "collapsed": true,
    "deletable": true,
    "editable": true
   },
   "source": [
    "# Hypothesis testing\n",
    "## Terminology/Notation\n",
    "Throughout I'll be denoting the probability distribution (or just probability, it should be clear from context) of some variable or value by $p(x)$.  For example, in the situation of flipping a coin three times, we might denote $p(HHH)$ for three heads, or $p(ccc)$ for the more general probability distribution over outcomes.\n",
    "\n",
    "Conditional probabilities will show up a lot today, and will be denoted $p(x\\,|\\,y)$, where $x$ is our variable/value and y is some condition.  A classic example is rolling two dice:\n",
    "\n",
    "dice example goes here\n",
    "\n",
    "Another example is the weather, which will be the focus of some exercises later.  If we look at the temperature high for a given day in San Jose, CA (I'm going to use F, since I'm American and my data is from US sources), call it $T_{H}$, we might ask any of the following, with the implied context we're extrapolating from data from 2016:\n",
    "\n",
    "- What is $p(T_{H})$?\n",
    "- What is $p(T_{H}\\,|\\,$summer$)$?\n",
    "- What is $p(T_{H}\\,|\\,$rainy day$)$?\n",
    "- What is $p(T_{H}\\,|\\,T_{L} > 60)$?\n",
    "\n",
    "These will all have quite different distributions - a general look at $T_{H}$ will be broad, but will tend to be warmer in the summer, and we'd suspect cooler on rainy days given San Jose's climate.\n",
    "\n",
    "## Frequentists and Bayesians\n",
    "In discussing hypothesis testing, we'll be looking at two major schools of thought about probability/statistics: Frequentists and Bayesians.  They differ fundamentally in how they interpret $p(x)$ - what do we mean by a probability?\n",
    "\n",
    "- The Frequentist interpretation is that if you repeated the measurement of $x$, this $p(x)$ is the distribution of values you'd measure.  The underlying variables are *not* random, but our ability to measure them comes from random experiments.  A high probability means we are more likely to get that number from our experiment\n",
    "- The Bayesian interpretation is that it is a measure of our knowledge, a sort of \"betting man's odds\".  A high probability means that the value is more likely to be that, given what we know\n",
    "\n",
    "These two interpretations lead directly to different ways of thinking about things, and thus to different methodology (though the methods of one can and are used by the other, since they both describe the same mathematics).  M\n"
   ]
  },
  {
   "cell_type": "code",
   "execution_count": null,
   "metadata": {
    "collapsed": true
   },
   "outputs": [],
   "source": []
  }
 ],
 "metadata": {
  "kernelspec": {
   "display_name": "Python 2",
   "language": "python",
   "name": "python2"
  },
  "language_info": {
   "codemirror_mode": {
    "name": "ipython",
    "version": 2
   },
   "file_extension": ".py",
   "mimetype": "text/x-python",
   "name": "python",
   "nbconvert_exporter": "python",
   "pygments_lexer": "ipython2",
   "version": "2.7.12"
  }
 },
 "nbformat": 4,
 "nbformat_minor": 2
}
